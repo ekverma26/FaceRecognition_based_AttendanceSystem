{
 "cells": [
  {
   "cell_type": "code",
   "execution_count": 1,
   "metadata": {},
   "outputs": [
    {
     "ename": "SystemExit",
     "evalue": "usage: ipykernel_launcher.py [global_opts] cmd1 [cmd1_opts] [cmd2 [cmd2_opts] ...]\n   or: ipykernel_launcher.py --help [cmd1 cmd2 ...]\n   or: ipykernel_launcher.py --help-commands\n   or: ipykernel_launcher.py cmd --help\n\nerror: option -f not recognized",
     "output_type": "error",
     "traceback": [
      "An exception has occurred, use %tb to see the full traceback.\n",
      "\u001b[1;31mSystemExit\u001b[0m\u001b[1;31m:\u001b[0m usage: ipykernel_launcher.py [global_opts] cmd1 [cmd1_opts] [cmd2 [cmd2_opts] ...]\n   or: ipykernel_launcher.py --help [cmd1 cmd2 ...]\n   or: ipykernel_launcher.py --help-commands\n   or: ipykernel_launcher.py cmd --help\n\nerror: option -f not recognized\n"
     ]
    },
    {
     "name": "stderr",
     "output_type": "stream",
     "text": [
      "c:\\users\\student\\appdata\\local\\continuum\\anaconda3\\envs\\opencv-env\\lib\\site-packages\\IPython\\core\\interactiveshell.py:3334: UserWarning: To exit: use 'exit', 'quit', or Ctrl-D.\n",
      "  warn(\"To exit: use 'exit', 'quit', or Ctrl-D.\", stacklevel=1)\n"
     ]
    }
   ],
   "source": [
    "from cx_Freeze import setup, Executable\n",
    "import sys,os\n",
    "PYTHON_INSTALL_DIR = os.path.dirname(os.path.dirname(os.__file__))\n",
    "os.environ['TCL_LIBRARY'] = os.path.join(PYTHON_INSTALL_DIR, 'tcl', 'tcl8.6')\n",
    "os.environ['TK_LIBRARY'] = os.path.join(PYTHON_INSTALL_DIR, 'tcl', 'tk8.6')\n",
    "\n",
    "base = None\n",
    "\n",
    "if sys.platform == 'win64':\n",
    "    base = None\n",
    "\n",
    "\n",
    "executables = [Executable(\"train.py\", base=base)]\n",
    "\n",
    "packages = [\"idna\",\"os\",\"sys\",\"cx_Freeze\",\"tkinter\",\"cv2\",\"setup\",\n",
    "            \"numpy\",\"PIL\",\"pandas\",\"datetime\",\"time\"]\n",
    "options = {\n",
    "    'build_exe': {\n",
    "            \n",
    "        'packages':packages,\n",
    "    },\n",
    "\n",
    "}\n",
    "\n",
    "setup(\n",
    "    name = \"ToolBox\",\n",
    "    options = options,\n",
    "    version = \"0.0.1\",\n",
    "    description = 'Vision ToolBox',\n",
    "    executables = executables\n",
    ")\n",
    "\n",
    "#write python setup build"
   ]
  },
  {
   "cell_type": "code",
   "execution_count": null,
   "metadata": {},
   "outputs": [],
   "source": []
  }
 ],
 "metadata": {
  "kernelspec": {
   "display_name": "Python 3",
   "language": "python",
   "name": "python3"
  },
  "language_info": {
   "codemirror_mode": {
    "name": "ipython",
    "version": 3
   },
   "file_extension": ".py",
   "mimetype": "text/x-python",
   "name": "python",
   "nbconvert_exporter": "python",
   "pygments_lexer": "ipython3",
   "version": "3.6.9"
  }
 },
 "nbformat": 4,
 "nbformat_minor": 2
}
